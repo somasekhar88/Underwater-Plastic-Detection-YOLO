{
 "cells": [
  {
   "cell_type": "markdown",
   "metadata": {
    "id": "tXgivnCen0U7"
   },
   "source": [
    "## YOLO V8"
   ]
  },
  {
   "cell_type": "code",
   "execution_count": 1,
   "metadata": {
    "colab": {
     "base_uri": "https://localhost:8080/"
    },
    "id": "nZEJTyL88PUp",
    "outputId": "8f1593f2-7d42-4f81-c690-e3824746f461"
   },
   "outputs": [
    {
     "name": "stdout",
     "output_type": "stream",
     "text": [
      "Training set: 843 images, 843 label files, 985 annotations\n",
      "Test set: 118 images, 118 label files, 118 annotations\n",
      "Valid set: 236 images, 236 label files, 271 annotations\n"
     ]
    }
   ],
   "source": [
    "import os\n",
    "from glob import glob\n",
    "\n",
    "def count_images_and_annotations(image_dir, label_dir):\n",
    "    image_extensions = ['*.jpg', '*.jpeg', '*.png', '*.bmp']\n",
    "    image_files = []\n",
    "    for ext in image_extensions:\n",
    "        image_files.extend(glob(os.path.join(image_dir, '**', ext), recursive=True))\n",
    "\n",
    "    label_files = glob(os.path.join(label_dir, '**', '*.txt'), recursive=True)\n",
    "\n",
    "    annotation_count = 0\n",
    "    for label_file in label_files:\n",
    "        with open(label_file, 'r') as f:\n",
    "            annotation_count += len(f.readlines())\n",
    "\n",
    "    return len(image_files), len(label_files), annotation_count\n",
    "\n",
    "# Paths\n",
    "\n",
    "base_path = '../Data/'\n",
    "train_images = os.path.join(base_path, 'train/images')\n",
    "train_labels = os.path.join(base_path, 'train/labels')\n",
    "test_images = os.path.join(base_path, 'test/images')\n",
    "test_labels = os.path.join(base_path, 'test/labels')\n",
    "valid_images = os.path.join(base_path, 'valid/images')\n",
    "valid_labels = os.path.join(base_path, 'valid/labels')\n",
    "\n",
    "\n",
    "# Count for training set\n",
    "train_images_count, train_labels_count, train_annotations_count = count_images_and_annotations(train_images, train_labels)\n",
    "\n",
    "# Count for test set\n",
    "test_images_count, test_labels_count, test_annotations_count = count_images_and_annotations(test_images, test_labels)\n",
    "\n",
    "# Count for valid set\n",
    "valid_images_count, valid_labels_count, valid_annotations_count = count_images_and_annotations(valid_images, valid_labels)\n",
    "\n",
    "print(f\"Training set: {train_images_count} images, {train_labels_count} label files, {train_annotations_count} annotations\")\n",
    "print(f\"Test set: {test_images_count} images, {test_labels_count} label files, {test_annotations_count} annotations\")\n",
    "print(f\"Valid set: {valid_images_count} images, {valid_labels_count} label files, {valid_annotations_count} annotations\")\n"
   ]
  },
  {
   "cell_type": "code",
   "execution_count": 2,
   "metadata": {},
   "outputs": [],
   "source": [
    "from ultralytics import YOLO\n",
    "import os\n",
    "\n",
    "def train_yolov8(model_size, data_yaml, epochs, imgsz, batch_size, save_dir):\n",
    "    # Load the model\n",
    "    model = YOLO(f'yolov8{model_size}.pt')\n",
    "\n",
    "    # Train the model\n",
    "    results = model.train(\n",
    "        data=data_yaml,\n",
    "        epochs=epochs,\n",
    "        imgsz=imgsz,\n",
    "        batch=batch_size,\n",
    "        project=save_dir,\n",
    "        name=f'yolov8{model_size}_underwater_plastic',\n",
    "        pretrained=True,\n",
    "        optimizer='Adam',\n",
    "        lr0=0.001,\n",
    "        patience=50,\n",
    "        save=True,\n",
    "        save_period=10,\n",
    "        device='cpu'  #Use '0' for GPU\n",
    "    )\n",
    "\n",
    "    # Validate the model\n",
    "    results = model.val()\n",
    "\n",
    "    print(f\"Training and validation complete for YOLOv8{model_size}\")\n",
    "\n",
    "# Parameters\n",
    "base_path = '../Data/'\n",
    "data_yaml = os.path.join(base_path, 'data.yaml')\n",
    "epochs = 1 #75 for full evaluation\n",
    "imgsz = 640\n",
    "batch_size = 16 #16\n",
    "save_dir = '../Output/'"
   ]
  },
  {
   "cell_type": "markdown",
   "metadata": {},
   "source": [
    "## Train YOLOv8s"
   ]
  },
  {
   "cell_type": "code",
   "execution_count": 3,
   "metadata": {
    "colab": {
     "background_save": true,
     "base_uri": "https://localhost:8080/"
    },
    "id": "s-UmwURu9V96",
    "outputId": "5466d7ee-0c11-4b8f-938a-bd7e78dc879b",
    "scrolled": true
   },
   "outputs": [
    {
     "name": "stdout",
     "output_type": "stream",
     "text": [
      "New https://pypi.org/project/ultralytics/8.2.75 available 😃 Update with 'pip install -U ultralytics'\n",
      "Ultralytics YOLOv8.1.34 🚀 Python-3.12.4 torch-2.3.1+cpu CPU (12th Gen Intel Core(TM) i7-1255U)\n",
      "\u001b[34m\u001b[1mengine\\trainer: \u001b[0mtask=detect, mode=train, model=yolov8s.pt, data=../Data/data.yaml, epochs=1, time=None, patience=50, batch=16, imgsz=640, save=True, save_period=10, val_period=1, cache=False, device=cpu, workers=8, project=../Output/, name=yolov8s_underwater_plastic, exist_ok=False, pretrained=True, optimizer=Adam, verbose=True, seed=0, deterministic=True, single_cls=False, rect=False, cos_lr=False, close_mosaic=10, resume=False, amp=True, fraction=1.0, profile=False, freeze=None, multi_scale=False, overlap_mask=True, mask_ratio=4, dropout=0.0, val=True, split=val, save_json=False, save_hybrid=False, conf=None, iou=0.7, max_det=300, half=False, dnn=False, plots=True, source=None, vid_stride=1, stream_buffer=False, visualize=False, augment=False, agnostic_nms=False, classes=None, retina_masks=False, embed=None, show=False, save_frames=False, save_txt=False, save_conf=False, save_crop=False, show_labels=True, show_conf=True, show_boxes=True, line_width=None, format=torchscript, keras=False, optimize=False, int8=False, dynamic=False, simplify=False, opset=None, workspace=4, nms=False, lr0=0.001, lrf=0.01, momentum=0.937, weight_decay=0.0005, warmup_epochs=3.0, warmup_momentum=0.8, warmup_bias_lr=0.1, box=7.5, cls=0.5, dfl=1.5, pose=12.0, kobj=1.0, label_smoothing=0.0, nbs=64, hsv_h=0.015, hsv_s=0.7, hsv_v=0.4, degrees=0.0, translate=0.1, scale=0.5, shear=0.0, perspective=0.0, flipud=0.0, fliplr=0.5, bgr=0.0, mosaic=1.0, mixup=0.0, copy_paste=0.0, auto_augment=randaugment, erasing=0.4, crop_fraction=1.0, cfg=None, tracker=botsort.yaml, save_dir=..\\Output\\yolov8s_underwater_plastic\n",
      "Overriding model.yaml nc=80 with nc=1\n",
      "\n",
      "                   from  n    params  module                                       arguments                     \n",
      "  0                  -1  1       928  ultralytics.nn.modules.conv.Conv             [3, 32, 3, 2]                 \n",
      "  1                  -1  1     18560  ultralytics.nn.modules.conv.Conv             [32, 64, 3, 2]                \n",
      "  2                  -1  1     29056  ultralytics.nn.modules.block.C2f             [64, 64, 1, True]             \n",
      "  3                  -1  1     73984  ultralytics.nn.modules.conv.Conv             [64, 128, 3, 2]               \n",
      "  4                  -1  2    197632  ultralytics.nn.modules.block.C2f             [128, 128, 2, True]           \n",
      "  5                  -1  1    295424  ultralytics.nn.modules.conv.Conv             [128, 256, 3, 2]              \n",
      "  6                  -1  2    788480  ultralytics.nn.modules.block.C2f             [256, 256, 2, True]           \n",
      "  7                  -1  1   1180672  ultralytics.nn.modules.conv.Conv             [256, 512, 3, 2]              \n",
      "  8                  -1  1   1838080  ultralytics.nn.modules.block.C2f             [512, 512, 1, True]           \n",
      "  9                  -1  1    656896  ultralytics.nn.modules.block.SPPF            [512, 512, 5]                 \n",
      " 10                  -1  1         0  torch.nn.modules.upsampling.Upsample         [None, 2, 'nearest']          \n",
      " 11             [-1, 6]  1         0  ultralytics.nn.modules.conv.Concat           [1]                           \n",
      " 12                  -1  1    591360  ultralytics.nn.modules.block.C2f             [768, 256, 1]                 \n",
      " 13                  -1  1         0  torch.nn.modules.upsampling.Upsample         [None, 2, 'nearest']          \n",
      " 14             [-1, 4]  1         0  ultralytics.nn.modules.conv.Concat           [1]                           \n",
      " 15                  -1  1    148224  ultralytics.nn.modules.block.C2f             [384, 128, 1]                 \n",
      " 16                  -1  1    147712  ultralytics.nn.modules.conv.Conv             [128, 128, 3, 2]              \n",
      " 17            [-1, 12]  1         0  ultralytics.nn.modules.conv.Concat           [1]                           \n",
      " 18                  -1  1    493056  ultralytics.nn.modules.block.C2f             [384, 256, 1]                 \n",
      " 19                  -1  1    590336  ultralytics.nn.modules.conv.Conv             [256, 256, 3, 2]              \n",
      " 20             [-1, 9]  1         0  ultralytics.nn.modules.conv.Concat           [1]                           \n",
      " 21                  -1  1   1969152  ultralytics.nn.modules.block.C2f             [768, 512, 1]                 \n",
      " 22        [15, 18, 21]  1   2116435  ultralytics.nn.modules.head.Detect           [1, [128, 256, 512]]          \n",
      "Model summary: 225 layers, 11135987 parameters, 11135971 gradients, 28.6 GFLOPs\n",
      "\n",
      "Transferred 349/355 items from pretrained weights\n",
      "\u001b[34m\u001b[1mTensorBoard: \u001b[0mStart with 'tensorboard --logdir ..\\Output\\yolov8s_underwater_plastic', view at http://localhost:6006/\n",
      "Freezing layer 'model.22.dfl.conv.weight'\n"
     ]
    },
    {
     "name": "stderr",
     "output_type": "stream",
     "text": [
      "\u001b[34m\u001b[1mtrain: \u001b[0mScanning C:\\Users\\dell\\Downloads\\Data\\train\\labels.cache... 843 images, 0 backgrounds, 0 corrupt: 100%|██████████| 843/843 [00:00<?, ?it/s]\n",
      "\u001b[34m\u001b[1mval: \u001b[0mScanning C:\\Users\\dell\\Downloads\\Data\\valid\\labels.cache... 236 images, 0 backgrounds, 0 corrupt: 100%|██████████| 236/236 [00:00<?, ?it/s]\n"
     ]
    },
    {
     "name": "stdout",
     "output_type": "stream",
     "text": [
      "Plotting labels to ..\\Output\\yolov8s_underwater_plastic\\labels.jpg... \n",
      "\u001b[34m\u001b[1moptimizer:\u001b[0m Adam(lr=0.001, momentum=0.937) with parameter groups 57 weight(decay=0.0), 64 weight(decay=0.0005), 63 bias(decay=0.0)\n",
      "\u001b[34m\u001b[1mTensorBoard: \u001b[0mmodel graph visualization added ✅\n",
      "Image sizes 640 train, 640 val\n",
      "Using 0 dataloader workers\n",
      "Logging results to \u001b[1m..\\Output\\yolov8s_underwater_plastic\u001b[0m\n",
      "Starting training for 1 epochs...\n",
      "\n",
      "      Epoch    GPU_mem   box_loss   cls_loss   dfl_loss  Instances       Size\n"
     ]
    },
    {
     "name": "stderr",
     "output_type": "stream",
     "text": [
      "        1/1         0G      1.614      1.686      1.606         19        640: 100%|██████████| 53/53 [37:09<00:00, 42.07s/it]\n",
      "                 Class     Images  Instances      Box(P          R      mAP50  mAP50-95): 100%|██████████| 8/8 [04:01<00:00, 30.19s/it]\n"
     ]
    },
    {
     "name": "stdout",
     "output_type": "stream",
     "text": [
      "                   all        236        271      0.582      0.384      0.423      0.226\n",
      "\n",
      "1 epochs completed in 0.691 hours.\n",
      "Optimizer stripped from ..\\Output\\yolov8s_underwater_plastic\\weights\\last.pt, 22.5MB\n",
      "Optimizer stripped from ..\\Output\\yolov8s_underwater_plastic\\weights\\best.pt, 22.5MB\n",
      "\n",
      "Validating ..\\Output\\yolov8s_underwater_plastic\\weights\\best.pt...\n",
      "Ultralytics YOLOv8.1.34 🚀 Python-3.12.4 torch-2.3.1+cpu CPU (12th Gen Intel Core(TM) i7-1255U)\n",
      "Model summary (fused): 168 layers, 11125971 parameters, 0 gradients, 28.4 GFLOPs\n"
     ]
    },
    {
     "name": "stderr",
     "output_type": "stream",
     "text": [
      "                 Class     Images  Instances      Box(P          R      mAP50  mAP50-95): 100%|██████████| 8/8 [03:31<00:00, 26.48s/it]\n"
     ]
    },
    {
     "name": "stdout",
     "output_type": "stream",
     "text": [
      "                   all        236        271      0.583      0.384      0.424      0.226\n",
      "Speed: 5.5ms preprocess, 871.8ms inference, 0.0ms loss, 4.7ms postprocess per image\n",
      "Results saved to \u001b[1m..\\Output\\yolov8s_underwater_plastic\u001b[0m\n",
      "Ultralytics YOLOv8.1.34 🚀 Python-3.12.4 torch-2.3.1+cpu CPU (12th Gen Intel Core(TM) i7-1255U)\n",
      "Model summary (fused): 168 layers, 11125971 parameters, 0 gradients, 28.4 GFLOPs\n"
     ]
    },
    {
     "name": "stderr",
     "output_type": "stream",
     "text": [
      "\u001b[34m\u001b[1mval: \u001b[0mScanning C:\\Users\\dell\\Downloads\\Data\\valid\\labels.cache... 236 images, 0 backgrounds, 0 corrupt: 100%|██████████| 236/236 [00:00<?, ?it/s]\n",
      "                 Class     Images  Instances      Box(P          R      mAP50  mAP50-95): 100%|██████████| 15/15 [04:05<00:00, 16.39s/it]\n"
     ]
    },
    {
     "name": "stdout",
     "output_type": "stream",
     "text": [
      "                   all        236        271      0.583      0.384      0.424      0.226\n",
      "Speed: 10.1ms preprocess, 1004.6ms inference, 0.0ms loss, 2.8ms postprocess per image\n",
      "Results saved to \u001b[1m..\\Output\\yolov8s_underwater_plastic2\u001b[0m\n",
      "Training and validation complete for YOLOv8s\n"
     ]
    }
   ],
   "source": [
    "\n",
    "\n",
    "\n",
    "\n",
    "train_yolov8('s', data_yaml, epochs, imgsz, batch_size, save_dir)\n"
   ]
  },
  {
   "cell_type": "markdown",
   "metadata": {
    "id": "yDFwVg8v9mAw"
   },
   "source": [
    "## Train YOLOv8l"
   ]
  },
  {
   "cell_type": "code",
   "execution_count": 4,
   "metadata": {
    "colab": {
     "base_uri": "https://localhost:8080/"
    },
    "id": "kFMgg91N9m_J",
    "outputId": "3db7c3e1-ed54-4952-b043-fc35f3fcd7dc"
   },
   "outputs": [
    {
     "name": "stdout",
     "output_type": "stream",
     "text": [
      "New https://pypi.org/project/ultralytics/8.2.75 available 😃 Update with 'pip install -U ultralytics'\n",
      "Ultralytics YOLOv8.1.34 🚀 Python-3.12.4 torch-2.3.1+cpu CPU (12th Gen Intel Core(TM) i7-1255U)\n",
      "\u001b[34m\u001b[1mengine\\trainer: \u001b[0mtask=detect, mode=train, model=yolov8l.pt, data=../Data/data.yaml, epochs=1, time=None, patience=50, batch=16, imgsz=640, save=True, save_period=10, val_period=1, cache=False, device=cpu, workers=8, project=../Output/, name=yolov8l_underwater_plastic, exist_ok=False, pretrained=True, optimizer=Adam, verbose=True, seed=0, deterministic=True, single_cls=False, rect=False, cos_lr=False, close_mosaic=10, resume=False, amp=True, fraction=1.0, profile=False, freeze=None, multi_scale=False, overlap_mask=True, mask_ratio=4, dropout=0.0, val=True, split=val, save_json=False, save_hybrid=False, conf=None, iou=0.7, max_det=300, half=False, dnn=False, plots=True, source=None, vid_stride=1, stream_buffer=False, visualize=False, augment=False, agnostic_nms=False, classes=None, retina_masks=False, embed=None, show=False, save_frames=False, save_txt=False, save_conf=False, save_crop=False, show_labels=True, show_conf=True, show_boxes=True, line_width=None, format=torchscript, keras=False, optimize=False, int8=False, dynamic=False, simplify=False, opset=None, workspace=4, nms=False, lr0=0.001, lrf=0.01, momentum=0.937, weight_decay=0.0005, warmup_epochs=3.0, warmup_momentum=0.8, warmup_bias_lr=0.1, box=7.5, cls=0.5, dfl=1.5, pose=12.0, kobj=1.0, label_smoothing=0.0, nbs=64, hsv_h=0.015, hsv_s=0.7, hsv_v=0.4, degrees=0.0, translate=0.1, scale=0.5, shear=0.0, perspective=0.0, flipud=0.0, fliplr=0.5, bgr=0.0, mosaic=1.0, mixup=0.0, copy_paste=0.0, auto_augment=randaugment, erasing=0.4, crop_fraction=1.0, cfg=None, tracker=botsort.yaml, save_dir=..\\Output\\yolov8l_underwater_plastic\n",
      "Overriding model.yaml nc=80 with nc=1\n",
      "\n",
      "                   from  n    params  module                                       arguments                     \n",
      "  0                  -1  1      1856  ultralytics.nn.modules.conv.Conv             [3, 64, 3, 2]                 \n",
      "  1                  -1  1     73984  ultralytics.nn.modules.conv.Conv             [64, 128, 3, 2]               \n",
      "  2                  -1  3    279808  ultralytics.nn.modules.block.C2f             [128, 128, 3, True]           \n",
      "  3                  -1  1    295424  ultralytics.nn.modules.conv.Conv             [128, 256, 3, 2]              \n",
      "  4                  -1  6   2101248  ultralytics.nn.modules.block.C2f             [256, 256, 6, True]           \n",
      "  5                  -1  1   1180672  ultralytics.nn.modules.conv.Conv             [256, 512, 3, 2]              \n",
      "  6                  -1  6   8396800  ultralytics.nn.modules.block.C2f             [512, 512, 6, True]           \n",
      "  7                  -1  1   2360320  ultralytics.nn.modules.conv.Conv             [512, 512, 3, 2]              \n",
      "  8                  -1  3   4461568  ultralytics.nn.modules.block.C2f             [512, 512, 3, True]           \n",
      "  9                  -1  1    656896  ultralytics.nn.modules.block.SPPF            [512, 512, 5]                 \n",
      " 10                  -1  1         0  torch.nn.modules.upsampling.Upsample         [None, 2, 'nearest']          \n",
      " 11             [-1, 6]  1         0  ultralytics.nn.modules.conv.Concat           [1]                           \n",
      " 12                  -1  3   4723712  ultralytics.nn.modules.block.C2f             [1024, 512, 3]                \n",
      " 13                  -1  1         0  torch.nn.modules.upsampling.Upsample         [None, 2, 'nearest']          \n",
      " 14             [-1, 4]  1         0  ultralytics.nn.modules.conv.Concat           [1]                           \n",
      " 15                  -1  3   1247744  ultralytics.nn.modules.block.C2f             [768, 256, 3]                 \n",
      " 16                  -1  1    590336  ultralytics.nn.modules.conv.Conv             [256, 256, 3, 2]              \n",
      " 17            [-1, 12]  1         0  ultralytics.nn.modules.conv.Concat           [1]                           \n",
      " 18                  -1  3   4592640  ultralytics.nn.modules.block.C2f             [768, 512, 3]                 \n",
      " 19                  -1  1   2360320  ultralytics.nn.modules.conv.Conv             [512, 512, 3, 2]              \n",
      " 20             [-1, 9]  1         0  ultralytics.nn.modules.conv.Concat           [1]                           \n",
      " 21                  -1  3   4723712  ultralytics.nn.modules.block.C2f             [1024, 512, 3]                \n",
      " 22        [15, 18, 21]  1   5583571  ultralytics.nn.modules.head.Detect           [1, [256, 512, 512]]          \n",
      "Model summary: 365 layers, 43630611 parameters, 43630595 gradients, 165.4 GFLOPs\n",
      "\n",
      "Transferred 589/595 items from pretrained weights\n",
      "\u001b[34m\u001b[1mTensorBoard: \u001b[0mStart with 'tensorboard --logdir ..\\Output\\yolov8l_underwater_plastic', view at http://localhost:6006/\n",
      "Freezing layer 'model.22.dfl.conv.weight'\n"
     ]
    },
    {
     "name": "stderr",
     "output_type": "stream",
     "text": [
      "\u001b[34m\u001b[1mtrain: \u001b[0mScanning C:\\Users\\dell\\Downloads\\Data\\train\\labels.cache... 843 images, 0 backgrounds, 0 corrupt: 100%|██████████| 843/843 [00:00<?, ?it/s]\n",
      "\u001b[34m\u001b[1mval: \u001b[0mScanning C:\\Users\\dell\\Downloads\\Data\\valid\\labels.cache... 236 images, 0 backgrounds, 0 corrupt: 100%|██████████| 236/236 [00:00<?, ?it/s]\n"
     ]
    },
    {
     "name": "stdout",
     "output_type": "stream",
     "text": [
      "Plotting labels to ..\\Output\\yolov8l_underwater_plastic\\labels.jpg... \n",
      "\u001b[34m\u001b[1moptimizer:\u001b[0m Adam(lr=0.001, momentum=0.937) with parameter groups 97 weight(decay=0.0), 104 weight(decay=0.0005), 103 bias(decay=0.0)\n",
      "\u001b[34m\u001b[1mTensorBoard: \u001b[0mmodel graph visualization added ✅\n",
      "Image sizes 640 train, 640 val\n",
      "Using 0 dataloader workers\n",
      "Logging results to \u001b[1m..\\Output\\yolov8l_underwater_plastic\u001b[0m\n",
      "Starting training for 1 epochs...\n",
      "\n",
      "      Epoch    GPU_mem   box_loss   cls_loss   dfl_loss  Instances       Size\n"
     ]
    },
    {
     "name": "stderr",
     "output_type": "stream",
     "text": [
      "        1/1         0G      1.674      1.852      1.826         19        640: 100%|██████████| 53/53 [1:17:24<00:00, 87.63s/it] \n",
      "                 Class     Images  Instances      Box(P          R      mAP50  mAP50-95): 100%|██████████| 8/8 [05:12<00:00, 39.04s/it]\n"
     ]
    },
    {
     "name": "stdout",
     "output_type": "stream",
     "text": [
      "                   all        236        271      0.395     0.0627     0.0481     0.0118\n",
      "\n",
      "1 epochs completed in 1.392 hours.\n",
      "Optimizer stripped from ..\\Output\\yolov8l_underwater_plastic\\weights\\last.pt, 87.6MB\n",
      "Optimizer stripped from ..\\Output\\yolov8l_underwater_plastic\\weights\\best.pt, 87.6MB\n",
      "\n",
      "Validating ..\\Output\\yolov8l_underwater_plastic\\weights\\best.pt...\n",
      "Ultralytics YOLOv8.1.34 🚀 Python-3.12.4 torch-2.3.1+cpu CPU (12th Gen Intel Core(TM) i7-1255U)\n",
      "Model summary (fused): 268 layers, 43607379 parameters, 0 gradients, 164.8 GFLOPs\n"
     ]
    },
    {
     "name": "stderr",
     "output_type": "stream",
     "text": [
      "                 Class     Images  Instances      Box(P          R      mAP50  mAP50-95): 100%|██████████| 8/8 [04:54<00:00, 36.86s/it]\n"
     ]
    },
    {
     "name": "stdout",
     "output_type": "stream",
     "text": [
      "                   all        236        271      0.405     0.0627     0.0476     0.0117\n",
      "Speed: 2.6ms preprocess, 1229.2ms inference, 0.0ms loss, 6.6ms postprocess per image\n",
      "Results saved to \u001b[1m..\\Output\\yolov8l_underwater_plastic\u001b[0m\n",
      "Ultralytics YOLOv8.1.34 🚀 Python-3.12.4 torch-2.3.1+cpu CPU (12th Gen Intel Core(TM) i7-1255U)\n",
      "Model summary (fused): 268 layers, 43607379 parameters, 0 gradients, 164.8 GFLOPs\n"
     ]
    },
    {
     "name": "stderr",
     "output_type": "stream",
     "text": [
      "\u001b[34m\u001b[1mval: \u001b[0mScanning C:\\Users\\dell\\Downloads\\Data\\valid\\labels.cache... 236 images, 0 backgrounds, 0 corrupt: 100%|██████████| 236/236 [00:00<?, ?it/s]\n",
      "                 Class     Images  Instances      Box(P          R      mAP50  mAP50-95): 100%|██████████| 15/15 [04:55<00:00, 19.70s/it]\n"
     ]
    },
    {
     "name": "stdout",
     "output_type": "stream",
     "text": [
      "                   all        236        271      0.405     0.0627     0.0476     0.0117\n",
      "Speed: 4.0ms preprocess, 1231.6ms inference, 0.0ms loss, 4.5ms postprocess per image\n",
      "Results saved to \u001b[1m..\\Output\\yolov8l_underwater_plastic2\u001b[0m\n",
      "Training and validation complete for YOLOv8l\n",
      "Training completed for both YOLOv8s and YOLOv8l\n"
     ]
    }
   ],
   "source": [
    "\n",
    "train_yolov8('l', data_yaml, epochs, imgsz, batch_size, save_dir)\n",
    "\n",
    "print(\"Training completed for both YOLOv8s and YOLOv8l\")"
   ]
  },
  {
   "cell_type": "code",
   "execution_count": null,
   "metadata": {},
   "outputs": [],
   "source": []
  },
  {
   "cell_type": "markdown",
   "metadata": {
    "id": "NPmMPSnin2z4"
   },
   "source": [
    "## YOLO V10"
   ]
  },
  {
   "cell_type": "code",
   "execution_count": 5,
   "metadata": {
    "colab": {
     "background_save": true,
     "base_uri": "https://localhost:8080/"
    },
    "id": "D4XJW8fXn4Vp",
    "outputId": "cece235b-de6b-405d-cfb5-1b544bc1fcfe"
   },
   "outputs": [
    {
     "name": "stdout",
     "output_type": "stream",
     "text": [
      "Training set: 843 images, 843 label files, 985 annotations\n",
      "Test set: 118 images, 118 label files, 118 annotations\n",
      "Valid set: 236 images, 236 label files, 271 annotations\n"
     ]
    }
   ],
   "source": [
    "import os\n",
    "from glob import glob\n",
    "from ultralytics import YOLO\n",
    "\n",
    "def count_images_and_annotations(image_dir, label_dir):\n",
    "    image_extensions = ['*.jpg', '*.jpeg', '*.png', '*.bmp']\n",
    "    image_files = []\n",
    "    for ext in image_extensions:\n",
    "        image_files.extend(glob(os.path.join(image_dir, '**', ext), recursive=True))\n",
    "\n",
    "    label_files = glob(os.path.join(label_dir, '**', '*.txt'), recursive=True)\n",
    "\n",
    "    annotation_count = 0\n",
    "    for label_file in label_files:\n",
    "        with open(label_file, 'r') as f:\n",
    "            annotation_count += len(f.readlines())\n",
    "\n",
    "    return len(image_files), len(label_files), annotation_count\n",
    "\n",
    "def train_yolov10(model_size, data_yaml, epochs, imgsz, batch_size, save_dir):\n",
    "    # Load YOLOv10 model\n",
    "    model = YOLO(f'yolov10{model_size}.pt')\n",
    "\n",
    "    # Train the model\n",
    "    results = model.train(\n",
    "        data=data_yaml,\n",
    "        epochs=epochs,\n",
    "        imgsz=imgsz,\n",
    "        batch=batch_size,\n",
    "        project=save_dir,\n",
    "        name=f'yolov10{model_size}_underwater_plastic',\n",
    "        pretrained=True,\n",
    "        optimizer='Adam', \n",
    "        lr0=0.001,\n",
    "        patience=50,\n",
    "        save=True,\n",
    "        save_period=10,\n",
    "        device='cpu'  # Use '0' for GPU\n",
    "    )\n",
    "\n",
    "    # Validate the model\n",
    "    results = model.val()\n",
    "    print(f\"Training and validation complete for YOLOv10{model_size}\")\n",
    "\n",
    "def run_inference(model_path, image_path):\n",
    "    # Load the trained model\n",
    "    model = YOLO(model_path)\n",
    "\n",
    "    # Run inference\n",
    "    results = model(image_path)\n",
    "    results[0].show()\n",
    "\n",
    "    print(f\"Inference complete for {image_path}\")\n",
    "\n",
    "# Paths\n",
    "base_path = '../Data/'\n",
    "data_yaml = os.path.join(base_path, 'data.yaml')\n",
    "train_images = os.path.join(base_path, 'train/images')\n",
    "train_labels = os.path.join(base_path, 'train/labels')\n",
    "test_images = os.path.join(base_path, 'test/images')\n",
    "test_labels = os.path.join(base_path, 'test/labels')\n",
    "valid_images = os.path.join(base_path, 'valid/images')\n",
    "valid_labels = os.path.join(base_path, 'valid/labels')\n",
    "\n",
    "\n",
    "# Count for training set\n",
    "train_images_count, train_labels_count, train_annotations_count = count_images_and_annotations(train_images, train_labels)\n",
    "\n",
    "# Count for test set\n",
    "test_images_count, test_labels_count, test_annotations_count = count_images_and_annotations(test_images, test_labels)\n",
    "\n",
    "# Count for valid set\n",
    "valid_images_count, valid_labels_count, valid_annotations_count = count_images_and_annotations(valid_images, valid_labels)\n",
    "\n",
    "print(f\"Training set: {train_images_count} images, {train_labels_count} label files, {train_annotations_count} annotations\")\n",
    "print(f\"Test set: {test_images_count} images, {test_labels_count} label files, {test_annotations_count} annotations\")\n",
    "print(f\"Valid set: {valid_images_count} images, {valid_labels_count} label files, {valid_annotations_count} annotations\")\n",
    "\n",
    "# Training parameters\n",
    "epochs = 1 #75 for full evaluation\n",
    "imgsz = 640\n",
    "batch_size = 16\n",
    "save_dir = '../Output/'\n",
    "\n"
   ]
  },
  {
   "cell_type": "markdown",
   "metadata": {},
   "source": [
    "\n",
    "## Train YOLOv10-S\n",
    "\n"
   ]
  },
  {
   "cell_type": "code",
   "execution_count": 6,
   "metadata": {},
   "outputs": [
    {
     "name": "stdout",
     "output_type": "stream",
     "text": [
      "New https://pypi.org/project/ultralytics/8.2.75 available 😃 Update with 'pip install -U ultralytics'\n",
      "Ultralytics YOLOv8.1.34 🚀 Python-3.12.4 torch-2.3.1+cpu CPU (12th Gen Intel Core(TM) i7-1255U)\n",
      "\u001b[34m\u001b[1mengine\\trainer: \u001b[0mtask=detect, mode=train, model=yolov10s.pt, data=../Data/data.yaml, epochs=1, time=None, patience=50, batch=16, imgsz=640, save=True, save_period=10, val_period=1, cache=False, device=cpu, workers=8, project=../Output/, name=yolov10s_underwater_plastic, exist_ok=False, pretrained=True, optimizer=Adam, verbose=True, seed=0, deterministic=True, single_cls=False, rect=False, cos_lr=False, close_mosaic=10, resume=False, amp=True, fraction=1.0, profile=False, freeze=None, multi_scale=False, overlap_mask=True, mask_ratio=4, dropout=0.0, val=True, split=val, save_json=False, save_hybrid=False, conf=None, iou=0.7, max_det=300, half=False, dnn=False, plots=True, source=None, vid_stride=1, stream_buffer=False, visualize=False, augment=False, agnostic_nms=False, classes=None, retina_masks=False, embed=None, show=False, save_frames=False, save_txt=False, save_conf=False, save_crop=False, show_labels=True, show_conf=True, show_boxes=True, line_width=None, format=torchscript, keras=False, optimize=False, int8=False, dynamic=False, simplify=False, opset=None, workspace=4, nms=False, lr0=0.001, lrf=0.01, momentum=0.937, weight_decay=0.0005, warmup_epochs=3.0, warmup_momentum=0.8, warmup_bias_lr=0.1, box=7.5, cls=0.5, dfl=1.5, pose=12.0, kobj=1.0, label_smoothing=0.0, nbs=64, hsv_h=0.015, hsv_s=0.7, hsv_v=0.4, degrees=0.0, translate=0.1, scale=0.5, shear=0.0, perspective=0.0, flipud=0.0, fliplr=0.5, bgr=0.0, mosaic=1.0, mixup=0.0, copy_paste=0.0, auto_augment=randaugment, erasing=0.4, crop_fraction=1.0, cfg=None, tracker=botsort.yaml, save_dir=..\\Output\\yolov10s_underwater_plastic\n",
      "Overriding model.yaml nc=80 with nc=1\n",
      "\n",
      "                   from  n    params  module                                       arguments                     \n",
      "  0                  -1  1       928  ultralytics.nn.modules.conv.Conv             [3, 32, 3, 2]                 \n",
      "  1                  -1  1     18560  ultralytics.nn.modules.conv.Conv             [32, 64, 3, 2]                \n",
      "  2                  -1  1     29056  ultralytics.nn.modules.block.C2f             [64, 64, 1, True]             \n",
      "  3                  -1  1     73984  ultralytics.nn.modules.conv.Conv             [64, 128, 3, 2]               \n",
      "  4                  -1  2    197632  ultralytics.nn.modules.block.C2f             [128, 128, 2, True]           \n",
      "  5                  -1  1     36096  ultralytics.nn.modules.block.SCDown          [128, 256, 3, 2]              \n",
      "  6                  -1  2    788480  ultralytics.nn.modules.block.C2f             [256, 256, 2, True]           \n",
      "  7                  -1  1    137728  ultralytics.nn.modules.block.SCDown          [256, 512, 3, 2]              \n",
      "  8                  -1  1    958464  ultralytics.nn.modules.block.C2fCIB          [512, 512, 1, True, True]     \n",
      "  9                  -1  1    656896  ultralytics.nn.modules.block.SPPF            [512, 512, 5]                 \n",
      " 10                  -1  1    990976  ultralytics.nn.modules.block.PSA             [512, 512]                    \n",
      " 11                  -1  1         0  torch.nn.modules.upsampling.Upsample         [None, 2, 'nearest']          \n",
      " 12             [-1, 6]  1         0  ultralytics.nn.modules.conv.Concat           [1]                           \n",
      " 13                  -1  1    591360  ultralytics.nn.modules.block.C2f             [768, 256, 1]                 \n",
      " 14                  -1  1         0  torch.nn.modules.upsampling.Upsample         [None, 2, 'nearest']          \n",
      " 15             [-1, 4]  1         0  ultralytics.nn.modules.conv.Concat           [1]                           \n",
      " 16                  -1  1    148224  ultralytics.nn.modules.block.C2f             [384, 128, 1]                 \n",
      " 17                  -1  1    147712  ultralytics.nn.modules.conv.Conv             [128, 128, 3, 2]              \n",
      " 18            [-1, 13]  1         0  ultralytics.nn.modules.conv.Concat           [1]                           \n",
      " 19                  -1  1    493056  ultralytics.nn.modules.block.C2f             [384, 256, 1]                 \n",
      " 20                  -1  1     68864  ultralytics.nn.modules.block.SCDown          [256, 256, 3, 2]              \n",
      " 21            [-1, 10]  1         0  ultralytics.nn.modules.conv.Concat           [1]                           \n",
      " 22                  -1  1   1089536  ultralytics.nn.modules.block.C2fCIB          [768, 512, 1, True, True]     \n",
      " 23        [16, 19, 22]  1   1639574  ultralytics.nn.modules.head.v10Detect        [1, [128, 256, 512]]          \n",
      "YOLOv10s summary: 402 layers, 8067126 parameters, 8067110 gradients, 24.8 GFLOPs\n",
      "\n",
      "Transferred 607/619 items from pretrained weights\n",
      "\u001b[34m\u001b[1mTensorBoard: \u001b[0mStart with 'tensorboard --logdir ..\\Output\\yolov10s_underwater_plastic', view at http://localhost:6006/\n",
      "Freezing layer 'model.23.dfl.conv.weight'\n"
     ]
    },
    {
     "name": "stderr",
     "output_type": "stream",
     "text": [
      "\u001b[34m\u001b[1mtrain: \u001b[0mScanning C:\\Users\\dell\\Downloads\\Data\\train\\labels.cache... 843 images, 0 backgrounds, 0 corrupt: 100%|██████████| 843/843 [00:00<?, ?it/s]\n",
      "\u001b[34m\u001b[1mval: \u001b[0mScanning C:\\Users\\dell\\Downloads\\Data\\valid\\labels.cache... 236 images, 0 backgrounds, 0 corrupt: 100%|██████████| 236/236 [00:00<?, ?it/s]"
     ]
    },
    {
     "name": "stdout",
     "output_type": "stream",
     "text": [
      "Plotting labels to ..\\Output\\yolov10s_underwater_plastic\\labels.jpg... \n"
     ]
    },
    {
     "name": "stderr",
     "output_type": "stream",
     "text": [
      "\n"
     ]
    },
    {
     "name": "stdout",
     "output_type": "stream",
     "text": [
      "\u001b[34m\u001b[1moptimizer:\u001b[0m Adam(lr=0.001, momentum=0.937) with parameter groups 99 weight(decay=0.0), 112 weight(decay=0.0005), 111 bias(decay=0.0)\n",
      "\u001b[34m\u001b[1mTensorBoard: \u001b[0mmodel graph visualization added ✅\n",
      "Image sizes 640 train, 640 val\n",
      "Using 0 dataloader workers\n",
      "Logging results to \u001b[1m..\\Output\\yolov10s_underwater_plastic\u001b[0m\n",
      "Starting training for 1 epochs...\n",
      "\n",
      "      Epoch    GPU_mem     box_om     cls_om     dfl_om     box_oo     cls_oo     dfl_oo  Instances       Size\n"
     ]
    },
    {
     "name": "stderr",
     "output_type": "stream",
     "text": [
      "        1/1         0G      1.591      1.578      1.562      1.543      2.841      1.496         19        640: 100%|██████████| 53/53 [14:40<00:00, 16.61s/it]\n",
      "                 Class     Images  Instances      Box(P          R      mAP50  mAP50-95): 100%|██████████| 8/8 [01:44<00:00, 13.07s/it]\n"
     ]
    },
    {
     "name": "stdout",
     "output_type": "stream",
     "text": [
      "                   all        236        271      0.431      0.428      0.353      0.179\n",
      "\n",
      "1 epochs completed in 0.285 hours.\n",
      "Optimizer stripped from ..\\Output\\yolov10s_underwater_plastic\\weights\\last.pt, 16.5MB\n",
      "Optimizer stripped from ..\\Output\\yolov10s_underwater_plastic\\weights\\best.pt, 16.5MB\n",
      "\n",
      "Validating ..\\Output\\yolov10s_underwater_plastic\\weights\\best.pt...\n",
      "Ultralytics YOLOv8.1.34 🚀 Python-3.12.4 torch-2.3.1+cpu CPU (12th Gen Intel Core(TM) i7-1255U)\n",
      "YOLOv10s summary (fused): 293 layers, 8035734 parameters, 0 gradients, 24.4 GFLOPs\n"
     ]
    },
    {
     "name": "stderr",
     "output_type": "stream",
     "text": [
      "                 Class     Images  Instances      Box(P          R      mAP50  mAP50-95): 100%|██████████| 8/8 [01:31<00:00, 11.46s/it]\n"
     ]
    },
    {
     "name": "stdout",
     "output_type": "stream",
     "text": [
      "                   all        236        271      0.434      0.427      0.353      0.179\n",
      "Speed: 3.0ms preprocess, 373.2ms inference, 0.0ms loss, 0.2ms postprocess per image\n",
      "Results saved to \u001b[1m..\\Output\\yolov10s_underwater_plastic\u001b[0m\n",
      "Ultralytics YOLOv8.1.34 🚀 Python-3.12.4 torch-2.3.1+cpu CPU (12th Gen Intel Core(TM) i7-1255U)\n",
      "YOLOv10s summary (fused): 293 layers, 8035734 parameters, 0 gradients, 24.4 GFLOPs\n"
     ]
    },
    {
     "name": "stderr",
     "output_type": "stream",
     "text": [
      "\u001b[34m\u001b[1mval: \u001b[0mScanning C:\\Users\\dell\\Downloads\\Data\\valid\\labels.cache... 236 images, 0 backgrounds, 0 corrupt: 100%|██████████| 236/236 [00:00<?, ?it/s]\n",
      "                 Class     Images  Instances      Box(P          R      mAP50  mAP50-95): 100%|██████████| 15/15 [01:21<00:00,  5.45s/it]\n"
     ]
    },
    {
     "name": "stdout",
     "output_type": "stream",
     "text": [
      "                   all        236        271      0.434      0.427      0.353      0.179\n",
      "Speed: 1.3ms preprocess, 332.0ms inference, 0.0ms loss, 0.3ms postprocess per image\n",
      "Results saved to \u001b[1m..\\Output\\yolov10s_underwater_plastic2\u001b[0m\n",
      "Training and validation complete for YOLOv10s\n"
     ]
    }
   ],
   "source": [
    "train_yolov10('s', data_yaml, epochs, imgsz, batch_size, save_dir)"
   ]
  },
  {
   "cell_type": "markdown",
   "metadata": {},
   "source": [
    "## Train YOLOv10-L"
   ]
  },
  {
   "cell_type": "code",
   "execution_count": 7,
   "metadata": {},
   "outputs": [
    {
     "name": "stdout",
     "output_type": "stream",
     "text": [
      "New https://pypi.org/project/ultralytics/8.2.75 available 😃 Update with 'pip install -U ultralytics'\n",
      "Ultralytics YOLOv8.1.34 🚀 Python-3.12.4 torch-2.3.1+cpu CPU (12th Gen Intel Core(TM) i7-1255U)\n",
      "\u001b[34m\u001b[1mengine\\trainer: \u001b[0mtask=detect, mode=train, model=yolov10l.pt, data=../Data/data.yaml, epochs=1, time=None, patience=50, batch=16, imgsz=640, save=True, save_period=10, val_period=1, cache=False, device=cpu, workers=8, project=../Output/, name=yolov10l_underwater_plastic, exist_ok=False, pretrained=True, optimizer=Adam, verbose=True, seed=0, deterministic=True, single_cls=False, rect=False, cos_lr=False, close_mosaic=10, resume=False, amp=True, fraction=1.0, profile=False, freeze=None, multi_scale=False, overlap_mask=True, mask_ratio=4, dropout=0.0, val=True, split=val, save_json=False, save_hybrid=False, conf=None, iou=0.7, max_det=300, half=False, dnn=False, plots=True, source=None, vid_stride=1, stream_buffer=False, visualize=False, augment=False, agnostic_nms=False, classes=None, retina_masks=False, embed=None, show=False, save_frames=False, save_txt=False, save_conf=False, save_crop=False, show_labels=True, show_conf=True, show_boxes=True, line_width=None, format=torchscript, keras=False, optimize=False, int8=False, dynamic=False, simplify=False, opset=None, workspace=4, nms=False, lr0=0.001, lrf=0.01, momentum=0.937, weight_decay=0.0005, warmup_epochs=3.0, warmup_momentum=0.8, warmup_bias_lr=0.1, box=7.5, cls=0.5, dfl=1.5, pose=12.0, kobj=1.0, label_smoothing=0.0, nbs=64, hsv_h=0.015, hsv_s=0.7, hsv_v=0.4, degrees=0.0, translate=0.1, scale=0.5, shear=0.0, perspective=0.0, flipud=0.0, fliplr=0.5, bgr=0.0, mosaic=1.0, mixup=0.0, copy_paste=0.0, auto_augment=randaugment, erasing=0.4, crop_fraction=1.0, cfg=None, tracker=botsort.yaml, save_dir=..\\Output\\yolov10l_underwater_plastic\n",
      "Overriding model.yaml nc=80 with nc=1\n",
      "\n",
      "                   from  n    params  module                                       arguments                     \n",
      "  0                  -1  1      1856  ultralytics.nn.modules.conv.Conv             [3, 64, 3, 2]                 \n",
      "  1                  -1  1     73984  ultralytics.nn.modules.conv.Conv             [64, 128, 3, 2]               \n",
      "  2                  -1  3    279808  ultralytics.nn.modules.block.C2f             [128, 128, 3, True]           \n",
      "  3                  -1  1    295424  ultralytics.nn.modules.conv.Conv             [128, 256, 3, 2]              \n",
      "  4                  -1  6   2101248  ultralytics.nn.modules.block.C2f             [256, 256, 6, True]           \n",
      "  5                  -1  1    137728  ultralytics.nn.modules.block.SCDown          [256, 512, 3, 2]              \n",
      "  6                  -1  6   8396800  ultralytics.nn.modules.block.C2f             [512, 512, 6, True]           \n",
      "  7                  -1  1    268800  ultralytics.nn.modules.block.SCDown          [512, 512, 3, 2]              \n",
      "  8                  -1  3   1744384  ultralytics.nn.modules.block.C2fCIB          [512, 512, 3, True]           \n",
      "  9                  -1  1    656896  ultralytics.nn.modules.block.SPPF            [512, 512, 5]                 \n",
      " 10                  -1  1    990976  ultralytics.nn.modules.block.PSA             [512, 512]                    \n",
      " 11                  -1  1         0  torch.nn.modules.upsampling.Upsample         [None, 2, 'nearest']          \n",
      " 12             [-1, 6]  1         0  ultralytics.nn.modules.conv.Concat           [1]                           \n",
      " 13                  -1  3   2006528  ultralytics.nn.modules.block.C2fCIB          [1024, 512, 3, True]          \n",
      " 14                  -1  1         0  torch.nn.modules.upsampling.Upsample         [None, 2, 'nearest']          \n",
      " 15             [-1, 4]  1         0  ultralytics.nn.modules.conv.Concat           [1]                           \n",
      " 16                  -1  3   1247744  ultralytics.nn.modules.block.C2f             [768, 256, 3]                 \n",
      " 17                  -1  1    590336  ultralytics.nn.modules.conv.Conv             [256, 256, 3, 2]              \n",
      " 18            [-1, 13]  1         0  ultralytics.nn.modules.conv.Concat           [1]                           \n",
      " 19                  -1  3   1875456  ultralytics.nn.modules.block.C2fCIB          [768, 512, 3, True]           \n",
      " 20                  -1  1    268800  ultralytics.nn.modules.block.SCDown          [512, 512, 3, 2]              \n",
      " 21            [-1, 10]  1         0  ultralytics.nn.modules.conv.Concat           [1]                           \n",
      " 22                  -1  3   2006528  ultralytics.nn.modules.block.C2fCIB          [1024, 512, 3, True]          \n",
      " 23        [16, 19, 22]  1   2823574  ultralytics.nn.modules.head.v10Detect        [1, [256, 512, 512]]          \n",
      "YOLOv10l summary: 628 layers, 25766870 parameters, 25766854 gradients, 127.2 GFLOPs\n",
      "\n",
      "Transferred 1015/1027 items from pretrained weights\n",
      "\u001b[34m\u001b[1mTensorBoard: \u001b[0mStart with 'tensorboard --logdir ..\\Output\\yolov10l_underwater_plastic', view at http://localhost:6006/\n",
      "Freezing layer 'model.23.dfl.conv.weight'\n"
     ]
    },
    {
     "name": "stderr",
     "output_type": "stream",
     "text": [
      "\u001b[34m\u001b[1mtrain: \u001b[0mScanning C:\\Users\\dell\\Downloads\\Data\\train\\labels.cache... 843 images, 0 backgrounds, 0 corrupt: 100%|██████████| 843/843 [00:00<?, ?it/s]\n",
      "\u001b[34m\u001b[1mval: \u001b[0mScanning C:\\Users\\dell\\Downloads\\Data\\valid\\labels.cache... 236 images, 0 backgrounds, 0 corrupt: 100%|██████████| 236/236 [00:00<?, ?it/s]\n"
     ]
    },
    {
     "name": "stdout",
     "output_type": "stream",
     "text": [
      "Plotting labels to ..\\Output\\yolov10l_underwater_plastic\\labels.jpg... \n",
      "\u001b[34m\u001b[1moptimizer:\u001b[0m Adam(lr=0.001, momentum=0.937) with parameter groups 167 weight(decay=0.0), 180 weight(decay=0.0005), 179 bias(decay=0.0)\n",
      "\u001b[34m\u001b[1mTensorBoard: \u001b[0mmodel graph visualization added ✅\n",
      "Image sizes 640 train, 640 val\n",
      "Using 0 dataloader workers\n",
      "Logging results to \u001b[1m..\\Output\\yolov10l_underwater_plastic\u001b[0m\n",
      "Starting training for 1 epochs...\n",
      "\n",
      "      Epoch    GPU_mem     box_om     cls_om     dfl_om     box_oo     cls_oo     dfl_oo  Instances       Size\n"
     ]
    },
    {
     "name": "stderr",
     "output_type": "stream",
     "text": [
      "        1/1         0G      1.651      1.643      1.917      1.622      2.382      1.847         19        640: 100%|██████████| 53/53 [54:12<00:00, 61.38s/it] \n",
      "                 Class     Images  Instances      Box(P          R      mAP50  mAP50-95): 100%|██████████| 8/8 [05:21<00:00, 40.13s/it]\n"
     ]
    },
    {
     "name": "stdout",
     "output_type": "stream",
     "text": [
      "                   all        236        271       0.31      0.351      0.233     0.0837\n",
      "\n",
      "1 epochs completed in 1.006 hours.\n",
      "Optimizer stripped from ..\\Output\\yolov10l_underwater_plastic\\weights\\last.pt, 52.2MB\n",
      "Optimizer stripped from ..\\Output\\yolov10l_underwater_plastic\\weights\\best.pt, 52.2MB\n",
      "\n",
      "Validating ..\\Output\\yolov10l_underwater_plastic\\weights\\best.pt...\n",
      "Ultralytics YOLOv8.1.34 🚀 Python-3.12.4 torch-2.3.1+cpu CPU (12th Gen Intel Core(TM) i7-1255U)\n",
      "YOLOv10l summary (fused): 461 layers, 25717910 parameters, 0 gradients, 126.3 GFLOPs\n"
     ]
    },
    {
     "name": "stderr",
     "output_type": "stream",
     "text": [
      "                 Class     Images  Instances      Box(P          R      mAP50  mAP50-95): 100%|██████████| 8/8 [04:53<00:00, 36.68s/it]\n"
     ]
    },
    {
     "name": "stdout",
     "output_type": "stream",
     "text": [
      "                   all        236        271      0.301      0.351      0.232     0.0836\n",
      "Speed: 3.2ms preprocess, 1229.3ms inference, 0.0ms loss, 0.2ms postprocess per image\n",
      "Results saved to \u001b[1m..\\Output\\yolov10l_underwater_plastic\u001b[0m\n",
      "Ultralytics YOLOv8.1.34 🚀 Python-3.12.4 torch-2.3.1+cpu CPU (12th Gen Intel Core(TM) i7-1255U)\n",
      "YOLOv10l summary (fused): 461 layers, 25717910 parameters, 0 gradients, 126.3 GFLOPs\n"
     ]
    },
    {
     "name": "stderr",
     "output_type": "stream",
     "text": [
      "\u001b[34m\u001b[1mval: \u001b[0mScanning C:\\Users\\dell\\Downloads\\Data\\valid\\labels.cache... 236 images, 0 backgrounds, 0 corrupt: 100%|██████████| 236/236 [00:00<?, ?it/s]\n",
      "                 Class     Images  Instances      Box(P          R      mAP50  mAP50-95): 100%|██████████| 15/15 [04:56<00:00, 19.75s/it]\n"
     ]
    },
    {
     "name": "stdout",
     "output_type": "stream",
     "text": [
      "                   all        236        271      0.301      0.351      0.232     0.0836\n",
      "Speed: 2.9ms preprocess, 1240.1ms inference, 0.0ms loss, 0.3ms postprocess per image\n",
      "Results saved to \u001b[1m..\\Output\\yolov10l_underwater_plastic2\u001b[0m\n",
      "Training and validation complete for YOLOv10l\n",
      "Training completed for both YOLOv10-S and YOLOv10-L\n"
     ]
    }
   ],
   "source": [
    "\n",
    "\n",
    "train_yolov10('l', data_yaml, epochs, imgsz, batch_size, save_dir)\n",
    "\n",
    "print(\"Training completed for both YOLOv10-S and YOLOv10-L\")"
   ]
  },
  {
   "cell_type": "code",
   "execution_count": null,
   "metadata": {},
   "outputs": [],
   "source": []
  }
 ],
 "metadata": {
  "accelerator": "GPU",
  "colab": {
   "gpuType": "T4",
   "provenance": []
  },
  "kernelspec": {
   "display_name": "Python 3 (ipykernel)",
   "language": "python",
   "name": "python3"
  },
  "language_info": {
   "codemirror_mode": {
    "name": "ipython",
    "version": 3
   },
   "file_extension": ".py",
   "mimetype": "text/x-python",
   "name": "python",
   "nbconvert_exporter": "python",
   "pygments_lexer": "ipython3",
   "version": "3.12.4"
  }
 },
 "nbformat": 4,
 "nbformat_minor": 4
}
